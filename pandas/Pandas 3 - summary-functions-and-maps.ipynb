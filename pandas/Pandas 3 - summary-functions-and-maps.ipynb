{
 "cells": [
  {
   "cell_type": "markdown",
   "metadata": {
    "papermill": {
     "duration": 0.012636,
     "end_time": "2020-10-01T01:24:12.822659",
     "exception": false,
     "start_time": "2020-10-01T01:24:12.810023",
     "status": "completed"
    },
    "tags": []
   },
   "source": [
    "# Introduction\n",
    "\n",
    "In the last tutorial, we learned how to select relevant data out of a DataFrame or Series. Plucking the right data out of our data representation is critical to getting work done, as we demonstrated in the exercises.\n",
    "\n",
    "However, the data does not always come out of memory in the format we want it in right out of the bat. Sometimes we have to do some more work ourselves to reformat it for the task at hand.  This tutorial will cover different operations we can apply to our data to get the input \"just right\". \n"
   ]
  },
  {
   "cell_type": "code",
   "execution_count": 29,
   "metadata": {
    "_kg_hide-input": true,
    "papermill": {
     "duration": 0.921711,
     "end_time": "2020-10-01T01:24:13.756059",
     "exception": false,
     "start_time": "2020-10-01T01:24:12.834348",
     "status": "completed"
    },
    "tags": []
   },
   "outputs": [],
   "source": [
    "\n",
    "import pandas as pd\n",
    "pd.set_option('max_rows', 5)\n",
    "import numpy as np\n",
    "data = pd.read_csv('Salary_Data.csv')"
   ]
  },
  {
   "cell_type": "code",
   "execution_count": 30,
   "metadata": {
    "papermill": {
     "duration": 0.042714,
     "end_time": "2020-10-01T01:24:13.810574",
     "exception": false,
     "start_time": "2020-10-01T01:24:13.767860",
     "status": "completed"
    },
    "tags": []
   },
   "outputs": [
    {
     "data": {
      "text/html": [
       "<div>\n",
       "<style scoped>\n",
       "    .dataframe tbody tr th:only-of-type {\n",
       "        vertical-align: middle;\n",
       "    }\n",
       "\n",
       "    .dataframe tbody tr th {\n",
       "        vertical-align: top;\n",
       "    }\n",
       "\n",
       "    .dataframe thead th {\n",
       "        text-align: right;\n",
       "    }\n",
       "</style>\n",
       "<table border=\"1\" class=\"dataframe\">\n",
       "  <thead>\n",
       "    <tr style=\"text-align: right;\">\n",
       "      <th></th>\n",
       "      <th>YearsExperience</th>\n",
       "      <th>Salary</th>\n",
       "      <th>Skill</th>\n",
       "      <th>Age</th>\n",
       "      <th>education</th>\n",
       "      <th>expense</th>\n",
       "      <th>savings</th>\n",
       "    </tr>\n",
       "  </thead>\n",
       "  <tbody>\n",
       "    <tr>\n",
       "      <th>0</th>\n",
       "      <td>100.0</td>\n",
       "      <td>3900</td>\n",
       "      <td>c++</td>\n",
       "      <td>22</td>\n",
       "      <td>bachelor</td>\n",
       "      <td>31200.0</td>\n",
       "      <td>7800.0</td>\n",
       "    </tr>\n",
       "    <tr>\n",
       "      <th>1</th>\n",
       "      <td>110.0</td>\n",
       "      <td>390000</td>\n",
       "      <td>python</td>\n",
       "      <td>22</td>\n",
       "      <td>masters</td>\n",
       "      <td>31200.0</td>\n",
       "      <td>7800.0</td>\n",
       "    </tr>\n",
       "    <tr>\n",
       "      <th>...</th>\n",
       "      <td>...</td>\n",
       "      <td>...</td>\n",
       "      <td>...</td>\n",
       "      <td>...</td>\n",
       "      <td>...</td>\n",
       "      <td>...</td>\n",
       "      <td>...</td>\n",
       "    </tr>\n",
       "    <tr>\n",
       "      <th>28</th>\n",
       "      <td>10.3</td>\n",
       "      <td>122391</td>\n",
       "      <td>python</td>\n",
       "      <td>26</td>\n",
       "      <td>masters</td>\n",
       "      <td>97912.8</td>\n",
       "      <td>24478.2</td>\n",
       "    </tr>\n",
       "    <tr>\n",
       "      <th>29</th>\n",
       "      <td>10.5</td>\n",
       "      <td>121872</td>\n",
       "      <td>c++</td>\n",
       "      <td>27</td>\n",
       "      <td>bachelor</td>\n",
       "      <td>97497.6</td>\n",
       "      <td>24374.4</td>\n",
       "    </tr>\n",
       "  </tbody>\n",
       "</table>\n",
       "<p>30 rows × 7 columns</p>\n",
       "</div>"
      ],
      "text/plain": [
       "    YearsExperience  Salary   Skill  Age education  expense  savings\n",
       "0             100.0    3900     c++   22  bachelor  31200.0   7800.0\n",
       "1             110.0  390000  python   22   masters  31200.0   7800.0\n",
       "..              ...     ...     ...  ...       ...      ...      ...\n",
       "28             10.3  122391  python   26   masters  97912.8  24478.2\n",
       "29             10.5  121872     c++   27  bachelor  97497.6  24374.4\n",
       "\n",
       "[30 rows x 7 columns]"
      ]
     },
     "execution_count": 30,
     "metadata": {},
     "output_type": "execute_result"
    }
   ],
   "source": [
    "data"
   ]
  },
  {
   "cell_type": "markdown",
   "metadata": {
    "papermill": {
     "duration": 0.01176,
     "end_time": "2020-10-01T01:24:13.836528",
     "exception": false,
     "start_time": "2020-10-01T01:24:13.824768",
     "status": "completed"
    },
    "tags": []
   },
   "source": [
    "# Summary functions\n",
    "\n",
    "Pandas provides many simple \"summary functions\" (not an official name) which restructure the data in some useful way. For example, consider the `describe()` method:"
   ]
  },
  {
   "cell_type": "code",
   "execution_count": 31,
   "metadata": {
    "papermill": {
     "duration": 0.029087,
     "end_time": "2020-10-01T01:24:13.877571",
     "exception": false,
     "start_time": "2020-10-01T01:24:13.848484",
     "status": "completed"
    },
    "tags": []
   },
   "outputs": [
    {
     "data": {
      "text/html": [
       "<div>\n",
       "<style scoped>\n",
       "    .dataframe tbody tr th:only-of-type {\n",
       "        vertical-align: middle;\n",
       "    }\n",
       "\n",
       "    .dataframe tbody tr th {\n",
       "        vertical-align: top;\n",
       "    }\n",
       "\n",
       "    .dataframe thead th {\n",
       "        text-align: right;\n",
       "    }\n",
       "</style>\n",
       "<table border=\"1\" class=\"dataframe\">\n",
       "  <thead>\n",
       "    <tr style=\"text-align: right;\">\n",
       "      <th></th>\n",
       "      <th>YearsExperience</th>\n",
       "      <th>Salary</th>\n",
       "      <th>Age</th>\n",
       "      <th>expense</th>\n",
       "      <th>savings</th>\n",
       "    </tr>\n",
       "  </thead>\n",
       "  <tbody>\n",
       "    <tr>\n",
       "      <th>count</th>\n",
       "      <td>30.000000</td>\n",
       "      <td>30.0</td>\n",
       "      <td>30.000000</td>\n",
       "      <td>30.00</td>\n",
       "      <td>30.00</td>\n",
       "    </tr>\n",
       "    <tr>\n",
       "      <th>mean</th>\n",
       "      <td>12.136667</td>\n",
       "      <td>86281.4</td>\n",
       "      <td>24.833333</td>\n",
       "      <td>60601.12</td>\n",
       "      <td>15150.28</td>\n",
       "    </tr>\n",
       "    <tr>\n",
       "      <th>...</th>\n",
       "      <td>...</td>\n",
       "      <td>...</td>\n",
       "      <td>...</td>\n",
       "      <td>...</td>\n",
       "      <td>...</td>\n",
       "    </tr>\n",
       "    <tr>\n",
       "      <th>75%</th>\n",
       "      <td>8.575000</td>\n",
       "      <td>104512.0</td>\n",
       "      <td>27.000000</td>\n",
       "      <td>80435.80</td>\n",
       "      <td>20108.95</td>\n",
       "    </tr>\n",
       "    <tr>\n",
       "      <th>max</th>\n",
       "      <td>110.000000</td>\n",
       "      <td>390000.0</td>\n",
       "      <td>29.000000</td>\n",
       "      <td>97912.80</td>\n",
       "      <td>24478.20</td>\n",
       "    </tr>\n",
       "  </tbody>\n",
       "</table>\n",
       "<p>8 rows × 5 columns</p>\n",
       "</div>"
      ],
      "text/plain": [
       "       YearsExperience    Salary        Age   expense   savings\n",
       "count        30.000000      30.0  30.000000     30.00     30.00\n",
       "mean         12.136667   86281.4  24.833333  60601.12  15150.28\n",
       "...                ...       ...        ...       ...       ...\n",
       "75%           8.575000  104512.0  27.000000  80435.80  20108.95\n",
       "max         110.000000  390000.0  29.000000  97912.80  24478.20\n",
       "\n",
       "[8 rows x 5 columns]"
      ]
     },
     "execution_count": 31,
     "metadata": {},
     "output_type": "execute_result"
    }
   ],
   "source": [
    "data.describe()"
   ]
  },
  {
   "cell_type": "markdown",
   "metadata": {
    "papermill": {
     "duration": 0.012402,
     "end_time": "2020-10-01T01:24:13.902283",
     "exception": false,
     "start_time": "2020-10-01T01:24:13.889881",
     "status": "completed"
    },
    "tags": []
   },
   "source": [
    "This method generates a high-level summary of the attributes of the given column. It is type-aware, meaning that its output changes based on the data type of the input. The output above only makes sense for numerical data; for string data here's what we get:"
   ]
  },
  {
   "cell_type": "code",
   "execution_count": 32,
   "metadata": {
    "papermill": {
     "duration": 0.061259,
     "end_time": "2020-10-01T01:24:13.975907",
     "exception": false,
     "start_time": "2020-10-01T01:24:13.914648",
     "status": "completed"
    },
    "tags": []
   },
   "outputs": [
    {
     "data": {
      "text/plain": [
       "count           30\n",
       "unique           2\n",
       "top       bachelor\n",
       "freq            20\n",
       "Name: education, dtype: object"
      ]
     },
     "execution_count": 32,
     "metadata": {},
     "output_type": "execute_result"
    }
   ],
   "source": [
    "data.education.describe()"
   ]
  },
  {
   "cell_type": "markdown",
   "metadata": {
    "papermill": {
     "duration": 0.012458,
     "end_time": "2020-10-01T01:24:14.001198",
     "exception": false,
     "start_time": "2020-10-01T01:24:13.988740",
     "status": "completed"
    },
    "tags": []
   },
   "source": [
    "If you want to get some particular simple summary statistic about a column in a DataFrame or a Series, there is usually a helpful pandas function that makes it happen. \n",
    "\n",
    "For example, to see the mean of the points allotted (e.g. how well an averagely rated wine does), we can use the `mean()` function:"
   ]
  },
  {
   "cell_type": "code",
   "execution_count": 33,
   "metadata": {
    "papermill": {
     "duration": 0.021332,
     "end_time": "2020-10-01T01:24:14.035191",
     "exception": false,
     "start_time": "2020-10-01T01:24:14.013859",
     "status": "completed"
    },
    "tags": []
   },
   "outputs": [
    {
     "data": {
      "text/plain": [
       "86281.4"
      ]
     },
     "execution_count": 33,
     "metadata": {},
     "output_type": "execute_result"
    }
   ],
   "source": [
    "data.Salary.mean()"
   ]
  },
  {
   "cell_type": "markdown",
   "metadata": {
    "papermill": {
     "duration": 0.012731,
     "end_time": "2020-10-01T01:24:14.060838",
     "exception": false,
     "start_time": "2020-10-01T01:24:14.048107",
     "status": "completed"
    },
    "tags": []
   },
   "source": [
    "To see a list of unique values we can use the `unique()` function:"
   ]
  },
  {
   "cell_type": "code",
   "execution_count": 34,
   "metadata": {
    "papermill": {
     "duration": 0.028,
     "end_time": "2020-10-01T01:24:14.101791",
     "exception": false,
     "start_time": "2020-10-01T01:24:14.073791",
     "status": "completed"
    },
    "tags": []
   },
   "outputs": [
    {
     "data": {
      "text/plain": [
       "array([  3900, 390000,  37731,  43525,  39891,  56642,  60150,  54445,\n",
       "        64445,  57189,  63218,  55794,  56957,  57081,  61111,  67938,\n",
       "        66029,  83088,  81363,  93940,  91738,  98273, 101302, 113812,\n",
       "       109431, 105582, 116969, 112635, 122391, 121872], dtype=int64)"
      ]
     },
     "execution_count": 34,
     "metadata": {},
     "output_type": "execute_result"
    }
   ],
   "source": [
    "data.Salary.unique()"
   ]
  },
  {
   "cell_type": "markdown",
   "metadata": {
    "papermill": {
     "duration": 0.013004,
     "end_time": "2020-10-01T01:24:14.128078",
     "exception": false,
     "start_time": "2020-10-01T01:24:14.115074",
     "status": "completed"
    },
    "tags": []
   },
   "source": [
    "To see a list of unique values _and_ how often they occur in the dataset, we can use the `value_counts()` method:"
   ]
  },
  {
   "cell_type": "code",
   "execution_count": 35,
   "metadata": {
    "papermill": {
     "duration": 0.035306,
     "end_time": "2020-10-01T01:24:14.176595",
     "exception": false,
     "start_time": "2020-10-01T01:24:14.141289",
     "status": "completed"
    },
    "tags": []
   },
   "outputs": [
    {
     "data": {
      "text/plain": [
       "bachelor    20\n",
       "masters     10\n",
       "Name: education, dtype: int64"
      ]
     },
     "execution_count": 35,
     "metadata": {},
     "output_type": "execute_result"
    }
   ],
   "source": [
    "data.education.value_counts()"
   ]
  },
  {
   "cell_type": "markdown",
   "metadata": {
    "papermill": {
     "duration": 0.013576,
     "end_time": "2020-10-01T01:24:14.203894",
     "exception": false,
     "start_time": "2020-10-01T01:24:14.190318",
     "status": "completed"
    },
    "tags": []
   },
   "source": [
    "# Maps\n",
    "\n",
    "A **map** is a term, borrowed from mathematics, for a function that takes one set of values and \"maps\" them to another set of values. In data science we often have a need for creating new representations from existing data, or for transforming data from the format it is in now to the format that we want it to be in later. Maps are what handle this work, making them extremely important for getting your work done!\n",
    "\n",
    "There are two mapping methods that you will use often. \n",
    "\n",
    "[`map()`](https://pandas.pydata.org/pandas-docs/stable/generated/pandas.Series.map.html) is the first, and slightly simpler one. For example, suppose that we wanted to remean the scores the salary received to 0. We can do this as follows:"
   ]
  },
  {
   "cell_type": "code",
   "execution_count": 36,
   "metadata": {
    "papermill": {
     "duration": 0.061567,
     "end_time": "2020-10-01T01:24:14.279420",
     "exception": false,
     "start_time": "2020-10-01T01:24:14.217853",
     "status": "completed"
    },
    "tags": []
   },
   "outputs": [
    {
     "data": {
      "text/plain": [
       "0     -82381.4\n",
       "1     303718.6\n",
       "        ...   \n",
       "28     36109.6\n",
       "29     35590.6\n",
       "Name: Salary, Length: 30, dtype: float64"
      ]
     },
     "execution_count": 36,
     "metadata": {},
     "output_type": "execute_result"
    }
   ],
   "source": [
    "salary_mean = data.Salary.mean()\n",
    "data.Salary.map(lambda p: p - salary_mean)"
   ]
  },
  {
   "cell_type": "markdown",
   "metadata": {
    "papermill": {
     "duration": 0.013883,
     "end_time": "2020-10-01T01:24:14.307726",
     "exception": false,
     "start_time": "2020-10-01T01:24:14.293843",
     "status": "completed"
    },
    "tags": []
   },
   "source": [
    "The function you pass to `map()` should expect a single value from the Series (a point value, in the above example), and return a transformed version of that value. `map()` returns a new Series where all the values have been transformed by your function.\n",
    "\n",
    "[`apply()`](https://pandas.pydata.org/pandas-docs/stable/generated/pandas.DataFrame.apply.html) is the equivalent method if we want to transform a whole DataFrame by calling a custom method on each row."
   ]
  },
  {
   "cell_type": "code",
   "execution_count": 37,
   "metadata": {
    "papermill": {
     "duration": 13.179839,
     "end_time": "2020-10-01T01:24:27.501844",
     "exception": false,
     "start_time": "2020-10-01T01:24:14.322005",
     "status": "completed"
    },
    "tags": []
   },
   "outputs": [
    {
     "data": {
      "text/html": [
       "<div>\n",
       "<style scoped>\n",
       "    .dataframe tbody tr th:only-of-type {\n",
       "        vertical-align: middle;\n",
       "    }\n",
       "\n",
       "    .dataframe tbody tr th {\n",
       "        vertical-align: top;\n",
       "    }\n",
       "\n",
       "    .dataframe thead th {\n",
       "        text-align: right;\n",
       "    }\n",
       "</style>\n",
       "<table border=\"1\" class=\"dataframe\">\n",
       "  <thead>\n",
       "    <tr style=\"text-align: right;\">\n",
       "      <th></th>\n",
       "      <th>YearsExperience</th>\n",
       "      <th>Salary</th>\n",
       "      <th>Skill</th>\n",
       "      <th>Age</th>\n",
       "      <th>education</th>\n",
       "      <th>expense</th>\n",
       "      <th>savings</th>\n",
       "    </tr>\n",
       "  </thead>\n",
       "  <tbody>\n",
       "    <tr>\n",
       "      <th>0</th>\n",
       "      <td>100.0</td>\n",
       "      <td>-82381.4</td>\n",
       "      <td>c++</td>\n",
       "      <td>22</td>\n",
       "      <td>bachelor</td>\n",
       "      <td>31200.0</td>\n",
       "      <td>7800.0</td>\n",
       "    </tr>\n",
       "    <tr>\n",
       "      <th>1</th>\n",
       "      <td>110.0</td>\n",
       "      <td>303718.6</td>\n",
       "      <td>python</td>\n",
       "      <td>22</td>\n",
       "      <td>masters</td>\n",
       "      <td>31200.0</td>\n",
       "      <td>7800.0</td>\n",
       "    </tr>\n",
       "    <tr>\n",
       "      <th>...</th>\n",
       "      <td>...</td>\n",
       "      <td>...</td>\n",
       "      <td>...</td>\n",
       "      <td>...</td>\n",
       "      <td>...</td>\n",
       "      <td>...</td>\n",
       "      <td>...</td>\n",
       "    </tr>\n",
       "    <tr>\n",
       "      <th>28</th>\n",
       "      <td>10.3</td>\n",
       "      <td>36109.6</td>\n",
       "      <td>python</td>\n",
       "      <td>26</td>\n",
       "      <td>masters</td>\n",
       "      <td>97912.8</td>\n",
       "      <td>24478.2</td>\n",
       "    </tr>\n",
       "    <tr>\n",
       "      <th>29</th>\n",
       "      <td>10.5</td>\n",
       "      <td>35590.6</td>\n",
       "      <td>c++</td>\n",
       "      <td>27</td>\n",
       "      <td>bachelor</td>\n",
       "      <td>97497.6</td>\n",
       "      <td>24374.4</td>\n",
       "    </tr>\n",
       "  </tbody>\n",
       "</table>\n",
       "<p>30 rows × 7 columns</p>\n",
       "</div>"
      ],
      "text/plain": [
       "    YearsExperience    Salary   Skill  Age education  expense  savings\n",
       "0             100.0  -82381.4     c++   22  bachelor  31200.0   7800.0\n",
       "1             110.0  303718.6  python   22   masters  31200.0   7800.0\n",
       "..              ...       ...     ...  ...       ...      ...      ...\n",
       "28             10.3   36109.6  python   26   masters  97912.8  24478.2\n",
       "29             10.5   35590.6     c++   27  bachelor  97497.6  24374.4\n",
       "\n",
       "[30 rows x 7 columns]"
      ]
     },
     "execution_count": 37,
     "metadata": {},
     "output_type": "execute_result"
    }
   ],
   "source": [
    "def remean_salary(row):\n",
    "    row.Salary = row.Salary - salary_mean\n",
    "    return row\n",
    "\n",
    "data.apply(remean_salary, axis='columns')"
   ]
  },
  {
   "cell_type": "markdown",
   "metadata": {
    "papermill": {
     "duration": 0.014526,
     "end_time": "2020-10-01T01:24:27.531342",
     "exception": false,
     "start_time": "2020-10-01T01:24:27.516816",
     "status": "completed"
    },
    "tags": []
   },
   "source": [
    "If we had called `data.apply()` with `axis='index'`, then instead of passing a function to transform each row, we would need to give a function to transform each *column*.\n",
    "\n",
    "Note that `map()` and `apply()` return new, transformed Series and DataFrames, respectively. They don't modify the original data they're called on. If we look at the first row of `data`, we can see that it still has its original `points` value."
   ]
  },
  {
   "cell_type": "code",
   "execution_count": 38,
   "metadata": {
    "papermill": {
     "duration": 0.034049,
     "end_time": "2020-10-01T01:24:27.580123",
     "exception": false,
     "start_time": "2020-10-01T01:24:27.546074",
     "status": "completed"
    },
    "tags": []
   },
   "outputs": [
    {
     "data": {
      "text/html": [
       "<div>\n",
       "<style scoped>\n",
       "    .dataframe tbody tr th:only-of-type {\n",
       "        vertical-align: middle;\n",
       "    }\n",
       "\n",
       "    .dataframe tbody tr th {\n",
       "        vertical-align: top;\n",
       "    }\n",
       "\n",
       "    .dataframe thead th {\n",
       "        text-align: right;\n",
       "    }\n",
       "</style>\n",
       "<table border=\"1\" class=\"dataframe\">\n",
       "  <thead>\n",
       "    <tr style=\"text-align: right;\">\n",
       "      <th></th>\n",
       "      <th>YearsExperience</th>\n",
       "      <th>Salary</th>\n",
       "      <th>Skill</th>\n",
       "      <th>Age</th>\n",
       "      <th>education</th>\n",
       "      <th>expense</th>\n",
       "      <th>savings</th>\n",
       "    </tr>\n",
       "  </thead>\n",
       "  <tbody>\n",
       "    <tr>\n",
       "      <th>0</th>\n",
       "      <td>100.0</td>\n",
       "      <td>3900</td>\n",
       "      <td>c++</td>\n",
       "      <td>22</td>\n",
       "      <td>bachelor</td>\n",
       "      <td>31200.0</td>\n",
       "      <td>7800.0</td>\n",
       "    </tr>\n",
       "  </tbody>\n",
       "</table>\n",
       "</div>"
      ],
      "text/plain": [
       "   YearsExperience  Salary Skill  Age education  expense  savings\n",
       "0            100.0    3900   c++   22  bachelor  31200.0   7800.0"
      ]
     },
     "execution_count": 38,
     "metadata": {},
     "output_type": "execute_result"
    }
   ],
   "source": [
    "data.head(1)"
   ]
  },
  {
   "cell_type": "markdown",
   "metadata": {
    "papermill": {
     "duration": 0.014873,
     "end_time": "2020-10-01T01:24:27.610139",
     "exception": false,
     "start_time": "2020-10-01T01:24:27.595266",
     "status": "completed"
    },
    "tags": []
   },
   "source": [
    "Pandas provides many common mapping operations as built-ins. For example, here's a faster way of remeaning our salary column:"
   ]
  },
  {
   "cell_type": "code",
   "execution_count": 39,
   "metadata": {
    "papermill": {
     "duration": 0.026672,
     "end_time": "2020-10-01T01:24:27.651851",
     "exception": false,
     "start_time": "2020-10-01T01:24:27.625179",
     "status": "completed"
    },
    "tags": []
   },
   "outputs": [
    {
     "data": {
      "text/plain": [
       "0     -82381.4\n",
       "1     303718.6\n",
       "        ...   \n",
       "28     36109.6\n",
       "29     35590.6\n",
       "Name: Salary, Length: 30, dtype: float64"
      ]
     },
     "execution_count": 39,
     "metadata": {},
     "output_type": "execute_result"
    }
   ],
   "source": [
    "salary_mean = data.Salary.mean()\n",
    "data.Salary - salary_mean"
   ]
  },
  {
   "cell_type": "markdown",
   "metadata": {
    "papermill": {
     "duration": 0.015174,
     "end_time": "2020-10-01T01:24:27.682371",
     "exception": false,
     "start_time": "2020-10-01T01:24:27.667197",
     "status": "completed"
    },
    "tags": []
   },
   "source": [
    "In this code we are performing an operation between a lot of values on the left-hand side (everything in the Series) and a single value on the right-hand side (the mean value). Pandas looks at this expression and figures out that we must mean to subtract that mean value from every value in the dataset.\n",
    "\n",
    "Pandas will also understand what to do if we perform these operations between Series of equal length. "
   ]
  },
  {
   "cell_type": "code",
   "execution_count": 40,
   "metadata": {
    "papermill": {
     "duration": 0.06988,
     "end_time": "2020-10-01T01:24:27.767529",
     "exception": false,
     "start_time": "2020-10-01T01:24:27.697649",
     "status": "completed"
    },
    "tags": []
   },
   "outputs": [
    {
     "data": {
      "text/plain": [
       "0       bachelor - c++\n",
       "1     masters - python\n",
       "            ...       \n",
       "28    masters - python\n",
       "29      bachelor - c++\n",
       "Length: 30, dtype: object"
      ]
     },
     "execution_count": 40,
     "metadata": {},
     "output_type": "execute_result"
    }
   ],
   "source": [
    "data.education + \" - \" + data.Skill"
   ]
  },
  {
   "cell_type": "markdown",
   "metadata": {
    "papermill": {
     "duration": 0.015738,
     "end_time": "2020-10-01T01:24:27.799153",
     "exception": false,
     "start_time": "2020-10-01T01:24:27.783415",
     "status": "completed"
    },
    "tags": []
   },
   "source": [
    "These operators are faster than `map()` or `apply()` because they uses speed ups built into pandas. All of the standard Python operators (`>`, `<`, `==`, and so on) work in this manner.\n",
    "\n",
    "However, they are not as flexible as `map()` or `apply()`, which can do more advanced things, like applying conditional logic, which cannot be done with addition and subtraction alone.\n",
    "\n"
   ]
  }
 ],
 "metadata": {
  "kernelspec": {
   "display_name": "Python 3",
   "language": "python",
   "name": "python3"
  },
  "language_info": {
   "codemirror_mode": {
    "name": "ipython",
    "version": 3
   },
   "file_extension": ".py",
   "mimetype": "text/x-python",
   "name": "python",
   "nbconvert_exporter": "python",
   "pygments_lexer": "ipython3",
   "version": "3.8.3"
  },
  "papermill": {
   "duration": 19.439876,
   "end_time": "2020-10-01T01:24:27.953096",
   "environment_variables": {},
   "exception": null,
   "input_path": "__notebook__.ipynb",
   "output_path": "__notebook__.ipynb",
   "parameters": {},
   "start_time": "2020-10-01T01:24:08.513220",
   "version": "2.1.0"
  }
 },
 "nbformat": 4,
 "nbformat_minor": 4
}
